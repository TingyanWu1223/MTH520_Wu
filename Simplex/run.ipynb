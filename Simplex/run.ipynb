{
 "cells": [
  {
   "cell_type": "code",
   "execution_count": 1,
   "id": "65b80f23-31db-41ba-8cb1-695e4c07ebf7",
   "metadata": {
    "tags": []
   },
   "outputs": [],
   "source": [
    "import test_simplex"
   ]
  },
  {
   "cell_type": "code",
   "execution_count": 2,
   "id": "bcd24894-eb6c-4542-a952-b4b73c3ff3c9",
   "metadata": {
    "tags": []
   },
   "outputs": [
    {
     "name": "stdout",
     "output_type": "stream",
     "text": [
      "(-5.2, {2: 0.6, 0: 1.6, 1: 0.2}, {3: 0.0, 4: 0.0})\n"
     ]
    }
   ],
   "source": [
    "test_simplex.test_simplex_example()"
   ]
  },
  {
   "cell_type": "code",
   "execution_count": 3,
   "id": "84795a28-9c55-4188-bcec-a3d2b2f38554",
   "metadata": {
    "tags": []
   },
   "outputs": [],
   "source": [
    "test_simplex.test_simplex()"
   ]
  },
  {
   "cell_type": "code",
   "execution_count": null,
   "id": "335423ad-ee00-468f-a49a-de96cdff78fa",
   "metadata": {},
   "outputs": [],
   "source": []
  }
 ],
 "metadata": {
  "kernelspec": {
   "display_name": "Python 3 (ipykernel)",
   "language": "python",
   "name": "python3"
  },
  "language_info": {
   "codemirror_mode": {
    "name": "ipython",
    "version": 3
   },
   "file_extension": ".py",
   "mimetype": "text/x-python",
   "name": "python",
   "nbconvert_exporter": "python",
   "pygments_lexer": "ipython3",
   "version": "3.12.6"
  }
 },
 "nbformat": 4,
 "nbformat_minor": 5
}
